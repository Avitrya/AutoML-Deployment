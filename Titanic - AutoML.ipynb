{
 "cells": [
  {
   "cell_type": "markdown",
   "metadata": {},
   "source": [
    "The following feature engineering methods have been carry-forwarded from the previous notebook."
   ]
  },
  {
   "cell_type": "code",
   "execution_count": 16,
   "metadata": {},
   "outputs": [],
   "source": [
    "train=pd.read_csv('TitanicTrain.csv', )\n",
    "test=pd.read_csv('TitanicTest.csv')\n",
    "df=pd.concat([train, test], axis=0, sort=True)"
   ]
  },
  {
   "cell_type": "code",
   "execution_count": 17,
   "metadata": {},
   "outputs": [],
   "source": [
    "df['Title']=df['Name'].str.extract('([A-Za-z]+)\\.', expand=True)"
   ]
  },
  {
   "cell_type": "code",
   "execution_count": 18,
   "metadata": {},
   "outputs": [],
   "source": [
    "mapping={'Mlle': 'Miss', 'Major': 'Mr', 'Col': 'Mr', 'Sir': 'Mr',\n",
    "           'Don': 'Mr', 'Mme': 'Mrs', 'Jonkheer': 'Mr', 'Lady': 'Mrs',\n",
    "           'Capt': 'Mr', 'Countess': 'Mrs', 'Ms': 'Miss', 'Dona': 'Mrs'}\n",
    "df.replace({'Title': mapping}, inplace=True)"
   ]
  },
  {
   "cell_type": "code",
   "execution_count": 19,
   "metadata": {},
   "outputs": [],
   "source": [
    "title_ages=dict(df.groupby('Title')['Age'].median())\n",
    "df['age_med']=df['Title'].apply(lambda x: title_ages[x])\n",
    "df['Age'].fillna(df['age_med'], inplace=True, )\n",
    "del df['age_med']"
   ]
  },
  {
   "cell_type": "code",
   "execution_count": 20,
   "metadata": {},
   "outputs": [],
   "source": [
    "class_fares=dict(df.groupby('Pclass')['Fare'].median())\n",
    "df['fare_med']=df['Pclass'].apply(lambda x: class_fares[x])\n",
    "df['Fare'].fillna(df['fare_med'], inplace=True, )\n",
    "del df['fare_med']"
   ]
  },
  {
   "cell_type": "code",
   "execution_count": 21,
   "metadata": {},
   "outputs": [],
   "source": [
    "df['Embarked'].fillna(method='backfill', inplace=True)"
   ]
  },
  {
   "cell_type": "code",
   "execution_count": 22,
   "metadata": {},
   "outputs": [],
   "source": [
    "train=df[pd.notnull(df['Survived'])]\n",
    "test=df[pd.isnull(df['Survived'])]"
   ]
  },
  {
   "cell_type": "code",
   "execution_count": 23,
   "metadata": {},
   "outputs": [],
   "source": [
    "df['Sex']=df['Sex'].astype('category')\n",
    "df['Sex']=df['Sex'].cat.codes"
   ]
  },
  {
   "cell_type": "code",
   "execution_count": 24,
   "metadata": {},
   "outputs": [],
   "source": [
    "categorical=['Embarked']\n",
    "\n",
    "for var in categorical:\n",
    "    df = pd.concat([df, \n",
    "                    pd.get_dummies(df[var], prefix=var)], axis=1)\n",
    "    del df[var]"
   ]
  },
  {
   "cell_type": "code",
   "execution_count": 25,
   "metadata": {},
   "outputs": [],
   "source": [
    "categorical=['Title']\n",
    "\n",
    "for var in categorical:\n",
    "    df = pd.concat([df, \n",
    "                    pd.get_dummies(df[var], prefix=var)], axis=1)\n",
    "    del df[var]"
   ]
  },
  {
   "cell_type": "code",
   "execution_count": 26,
   "metadata": {},
   "outputs": [],
   "source": [
    "df.drop(['Cabin', 'Name', 'Ticket', 'PassengerId'], axis=1, inplace=True)"
   ]
  },
  {
   "cell_type": "markdown",
   "metadata": {},
   "source": [
    "Now, we will set up the H2O framework to run AutoML and a gradient boosting estimator to assess how well AutoML really performs without specifying any alogrithm."
   ]
  },
  {
   "cell_type": "code",
   "execution_count": 33,
   "metadata": {},
   "outputs": [
    {
     "name": "stdout",
     "output_type": "stream",
     "text": [
      "Checking whether there is an H2O instance running at http://localhost:54321 ..... not found.\n",
      "Attempting to start a local H2O server...\n",
      "; Java HotSpot(TM) 64-Bit Server VM (build 25.211-b12, mixed mode)\n",
      "  Starting server from C:\\Users\\Avitrya\\Anaconda3\\lib\\site-packages\\h2o\\backend\\bin\\h2o.jar\n",
      "  Ice root: C:\\Users\\Avitrya\\AppData\\Local\\Temp\\tmpuf0tzsbr\n",
      "  JVM stdout: C:\\Users\\Avitrya\\AppData\\Local\\Temp\\tmpuf0tzsbr\\h2o_Avitrya_started_from_python.out\n",
      "  JVM stderr: C:\\Users\\Avitrya\\AppData\\Local\\Temp\\tmpuf0tzsbr\\h2o_Avitrya_started_from_python.err\n",
      "  Server is running at http://127.0.0.1:54321\n",
      "Connecting to H2O server at http://127.0.0.1:54321 ... successful.\n"
     ]
    },
    {
     "data": {
      "text/html": [
       "<div style=\"overflow:auto\"><table style=\"width:50%\"><tr><td>H2O_cluster_uptime:</td>\n",
       "<td>09 secs</td></tr>\n",
       "<tr><td>H2O_cluster_timezone:</td>\n",
       "<td>Asia/Kolkata</td></tr>\n",
       "<tr><td>H2O_data_parsing_timezone:</td>\n",
       "<td>UTC</td></tr>\n",
       "<tr><td>H2O_cluster_version:</td>\n",
       "<td>3.30.0.6</td></tr>\n",
       "<tr><td>H2O_cluster_version_age:</td>\n",
       "<td>19 hours and 48 minutes </td></tr>\n",
       "<tr><td>H2O_cluster_name:</td>\n",
       "<td>H2O_from_python_Avitrya_3rrtfs</td></tr>\n",
       "<tr><td>H2O_cluster_total_nodes:</td>\n",
       "<td>1</td></tr>\n",
       "<tr><td>H2O_cluster_free_memory:</td>\n",
       "<td>14.22 Gb</td></tr>\n",
       "<tr><td>H2O_cluster_total_cores:</td>\n",
       "<td>4</td></tr>\n",
       "<tr><td>H2O_cluster_allowed_cores:</td>\n",
       "<td>4</td></tr>\n",
       "<tr><td>H2O_cluster_status:</td>\n",
       "<td>accepting new members, healthy</td></tr>\n",
       "<tr><td>H2O_connection_url:</td>\n",
       "<td>http://127.0.0.1:54321</td></tr>\n",
       "<tr><td>H2O_connection_proxy:</td>\n",
       "<td>{\"http\": null, \"https\": null}</td></tr>\n",
       "<tr><td>H2O_internal_security:</td>\n",
       "<td>False</td></tr>\n",
       "<tr><td>H2O_API_Extensions:</td>\n",
       "<td>Amazon S3, Algos, AutoML, Core V3, TargetEncoder, Core V4</td></tr>\n",
       "<tr><td>Python_version:</td>\n",
       "<td>3.6.10 final</td></tr></table></div>"
      ],
      "text/plain": [
       "--------------------------  ---------------------------------------------------------\n",
       "H2O_cluster_uptime:         09 secs\n",
       "H2O_cluster_timezone:       Asia/Kolkata\n",
       "H2O_data_parsing_timezone:  UTC\n",
       "H2O_cluster_version:        3.30.0.6\n",
       "H2O_cluster_version_age:    19 hours and 48 minutes\n",
       "H2O_cluster_name:           H2O_from_python_Avitrya_3rrtfs\n",
       "H2O_cluster_total_nodes:    1\n",
       "H2O_cluster_free_memory:    14.22 Gb\n",
       "H2O_cluster_total_cores:    4\n",
       "H2O_cluster_allowed_cores:  4\n",
       "H2O_cluster_status:         accepting new members, healthy\n",
       "H2O_connection_url:         http://127.0.0.1:54321\n",
       "H2O_connection_proxy:       {\"http\": null, \"https\": null}\n",
       "H2O_internal_security:      False\n",
       "H2O_API_Extensions:         Amazon S3, Algos, AutoML, Core V3, TargetEncoder, Core V4\n",
       "Python_version:             3.6.10 final\n",
       "--------------------------  ---------------------------------------------------------"
      ]
     },
     "metadata": {},
     "output_type": "display_data"
    }
   ],
   "source": [
    "import h2o\n",
    "from h2o.estimators.gbm import H2OGradientBoostingEstimator\n",
    "\n",
    "from sklearn import metrics\n",
    "from sklearn.metrics import accuracy_score\n",
    "\n",
    "import h2o\n",
    "from h2o.automl import H2OAutoML\n",
    "h2o.init(max_mem_size='16G')"
   ]
  },
  {
   "cell_type": "code",
   "execution_count": 35,
   "metadata": {},
   "outputs": [
    {
     "name": "stdout",
     "output_type": "stream",
     "text": [
      "Parse progress: |█████████████████████████████████████████████████████████| 100%\n",
      "Parse progress: |█████████████████████████████████████████████████████████| 100%\n"
     ]
    }
   ],
   "source": [
    "#Converting Pandas dataframes into a format suitable for H2O framework to process\n",
    "\n",
    "train = h2o.H2OFrame(df[df['Survived'].notna()])\n",
    "test = h2o.H2OFrame(df[df['Survived'].isna()])"
   ]
  },
  {
   "cell_type": "code",
   "execution_count": 38,
   "metadata": {},
   "outputs": [],
   "source": [
    "target = 'Survived'\n",
    "predictors = [f for f in train.columns if f not in ['Survived']]"
   ]
  },
  {
   "cell_type": "code",
   "execution_count": 39,
   "metadata": {},
   "outputs": [],
   "source": [
    "#Splitting data into training and testing sets\n",
    "\n",
    "train_df, valid_df, test_df = train.split_frame(ratios=[0.7, 0.15], seed=2018)"
   ]
  },
  {
   "cell_type": "code",
   "execution_count": 40,
   "metadata": {},
   "outputs": [],
   "source": [
    "#Changing format for H2O framework processing\n",
    "\n",
    "train_df[target]=train_df[target].asfactor()\n",
    "valid_df[target]=valid_df[target].asfactor()\n",
    "test_df[target]=test_df[target].asfactor()"
   ]
  },
  {
   "cell_type": "code",
   "execution_count": 41,
   "metadata": {},
   "outputs": [
    {
     "data": {
      "text/plain": [
       "['Age',\n",
       " 'Fare',\n",
       " 'Parch',\n",
       " 'Pclass',\n",
       " 'Sex',\n",
       " 'SibSp',\n",
       " 'Embarked_C',\n",
       " 'Embarked_Q',\n",
       " 'Embarked_S',\n",
       " 'Title_Dr',\n",
       " 'Title_Master',\n",
       " 'Title_Miss',\n",
       " 'Title_Mr',\n",
       " 'Title_Mrs',\n",
       " 'Title_Rev']"
      ]
     },
     "execution_count": 41,
     "metadata": {},
     "output_type": "execute_result"
    }
   ],
   "source": [
    "#Checking which features will help in predicting Suvivability\n",
    "\n",
    "predictors"
   ]
  },
  {
   "cell_type": "code",
   "execution_count": 42,
   "metadata": {},
   "outputs": [
    {
     "name": "stdout",
     "output_type": "stream",
     "text": [
      "gbm Model Build progress: |███████████████████████████████████████████████| 100%\n"
     ]
    }
   ],
   "source": [
    "#First running the Gradient Boosting Estimator and seeing its accuracy\n",
    "\n",
    "gbm=H2OGradientBoostingEstimator()\n",
    "\n",
    "gbm.train(x=predictors, y=target, training_frame=train_df)"
   ]
  },
  {
   "cell_type": "code",
   "execution_count": 43,
   "metadata": {},
   "outputs": [
    {
     "name": "stdout",
     "output_type": "stream",
     "text": [
      "gbm prediction progress: |████████████████████████████████████████████████| 100%\n"
     ]
    },
    {
     "data": {
      "text/html": [
       "<div>\n",
       "<style scoped>\n",
       "    .dataframe tbody tr th:only-of-type {\n",
       "        vertical-align: middle;\n",
       "    }\n",
       "\n",
       "    .dataframe tbody tr th {\n",
       "        vertical-align: top;\n",
       "    }\n",
       "\n",
       "    .dataframe thead th {\n",
       "        text-align: right;\n",
       "    }\n",
       "</style>\n",
       "<table border=\"1\" class=\"dataframe\">\n",
       "  <thead>\n",
       "    <tr style=\"text-align: right;\">\n",
       "      <th></th>\n",
       "      <th>predict</th>\n",
       "    </tr>\n",
       "  </thead>\n",
       "  <tbody>\n",
       "    <tr>\n",
       "      <th>0</th>\n",
       "      <td>1</td>\n",
       "    </tr>\n",
       "    <tr>\n",
       "      <th>1</th>\n",
       "      <td>1</td>\n",
       "    </tr>\n",
       "    <tr>\n",
       "      <th>2</th>\n",
       "      <td>0</td>\n",
       "    </tr>\n",
       "    <tr>\n",
       "      <th>3</th>\n",
       "      <td>0</td>\n",
       "    </tr>\n",
       "    <tr>\n",
       "      <th>4</th>\n",
       "      <td>1</td>\n",
       "    </tr>\n",
       "    <tr>\n",
       "      <th>...</th>\n",
       "      <td>...</td>\n",
       "    </tr>\n",
       "    <tr>\n",
       "      <th>110</th>\n",
       "      <td>1</td>\n",
       "    </tr>\n",
       "    <tr>\n",
       "      <th>111</th>\n",
       "      <td>0</td>\n",
       "    </tr>\n",
       "    <tr>\n",
       "      <th>112</th>\n",
       "      <td>1</td>\n",
       "    </tr>\n",
       "    <tr>\n",
       "      <th>113</th>\n",
       "      <td>0</td>\n",
       "    </tr>\n",
       "    <tr>\n",
       "      <th>114</th>\n",
       "      <td>0</td>\n",
       "    </tr>\n",
       "  </tbody>\n",
       "</table>\n",
       "<p>115 rows × 1 columns</p>\n",
       "</div>"
      ],
      "text/plain": [
       "     predict\n",
       "0          1\n",
       "1          1\n",
       "2          0\n",
       "3          0\n",
       "4          1\n",
       "..       ...\n",
       "110        1\n",
       "111        0\n",
       "112        1\n",
       "113        0\n",
       "114        0\n",
       "\n",
       "[115 rows x 1 columns]"
      ]
     },
     "execution_count": 43,
     "metadata": {},
     "output_type": "execute_result"
    }
   ],
   "source": [
    "pred_val=gbm.predict(test_df[predictors])[0].as_data_frame()\n",
    "pred_val"
   ]
  },
  {
   "cell_type": "code",
   "execution_count": 44,
   "metadata": {},
   "outputs": [
    {
     "data": {
      "text/plain": [
       "0.8347826086956521"
      ]
     },
     "execution_count": 44,
     "metadata": {},
     "output_type": "execute_result"
    }
   ],
   "source": [
    "true_val=(test_df[target]).as_data_frame()\n",
    "acc=accuracy_score(pred_val, true_val)\n",
    "acc"
   ]
  },
  {
   "cell_type": "markdown",
   "metadata": {},
   "source": [
    "We got an accuracy of 83.5% from the Gradient Boosting Estimator"
   ]
  },
  {
   "cell_type": "code",
   "execution_count": 45,
   "metadata": {},
   "outputs": [
    {
     "name": "stdout",
     "output_type": "stream",
     "text": [
      "AutoML progress: |\n",
      "15:45:31.648: AutoML: XGBoost is not available; skipping it.\n",
      "\n",
      "████████████████████████████████████████████████████████| 100%\n"
     ]
    }
   ],
   "source": [
    "#Now, we will run H2O framework's AutoML \n",
    "\n",
    "aml=H2OAutoML(max_models=20, seed=1)\n",
    "aml.train(x=predictors, y=target, training_frame=train_df)"
   ]
  },
  {
   "cell_type": "code",
   "execution_count": 46,
   "metadata": {},
   "outputs": [
    {
     "data": {
      "text/html": [
       "<table>\n",
       "<thead>\n",
       "<tr><th>model_id                                           </th><th style=\"text-align: right;\">     auc</th><th style=\"text-align: right;\">  logloss</th><th style=\"text-align: right;\">   aucpr</th><th style=\"text-align: right;\">  mean_per_class_error</th><th style=\"text-align: right;\">    rmse</th><th style=\"text-align: right;\">     mse</th></tr>\n",
       "</thead>\n",
       "<tbody>\n",
       "<tr><td>GBM_grid__1_AutoML_20200701_154531_model_4         </td><td style=\"text-align: right;\">0.871413</td><td style=\"text-align: right;\"> 0.405589</td><td style=\"text-align: right;\">0.851691</td><td style=\"text-align: right;\">              0.169176</td><td style=\"text-align: right;\">0.350316</td><td style=\"text-align: right;\">0.122722</td></tr>\n",
       "<tr><td>GBM_4_AutoML_20200701_154531                       </td><td style=\"text-align: right;\">0.868669</td><td style=\"text-align: right;\"> 0.413983</td><td style=\"text-align: right;\">0.849994</td><td style=\"text-align: right;\">              0.183306</td><td style=\"text-align: right;\">0.355122</td><td style=\"text-align: right;\">0.126112</td></tr>\n",
       "<tr><td>GBM_1_AutoML_20200701_154531                       </td><td style=\"text-align: right;\">0.867578</td><td style=\"text-align: right;\"> 0.420747</td><td style=\"text-align: right;\">0.831506</td><td style=\"text-align: right;\">              0.182924</td><td style=\"text-align: right;\">0.362135</td><td style=\"text-align: right;\">0.131142</td></tr>\n",
       "<tr><td>StackedEnsemble_BestOfFamily_AutoML_20200701_154531</td><td style=\"text-align: right;\">0.866912</td><td style=\"text-align: right;\"> 0.398036</td><td style=\"text-align: right;\">0.854523</td><td style=\"text-align: right;\">              0.17264 </td><td style=\"text-align: right;\">0.348672</td><td style=\"text-align: right;\">0.121572</td></tr>\n",
       "<tr><td>GBM_3_AutoML_20200701_154531                       </td><td style=\"text-align: right;\">0.866443</td><td style=\"text-align: right;\"> 0.417327</td><td style=\"text-align: right;\">0.845559</td><td style=\"text-align: right;\">              0.190562</td><td style=\"text-align: right;\">0.358586</td><td style=\"text-align: right;\">0.128584</td></tr>\n",
       "<tr><td>GLM_1_AutoML_20200701_154531                       </td><td style=\"text-align: right;\">0.86623 </td><td style=\"text-align: right;\"> 0.417536</td><td style=\"text-align: right;\">0.846619</td><td style=\"text-align: right;\">              0.186307</td><td style=\"text-align: right;\">0.361857</td><td style=\"text-align: right;\">0.130941</td></tr>\n",
       "<tr><td>StackedEnsemble_AllModels_AutoML_20200701_154531   </td><td style=\"text-align: right;\">0.866192</td><td style=\"text-align: right;\"> 0.399152</td><td style=\"text-align: right;\">0.854251</td><td style=\"text-align: right;\">              0.17605 </td><td style=\"text-align: right;\">0.349378</td><td style=\"text-align: right;\">0.122065</td></tr>\n",
       "<tr><td>GBM_2_AutoML_20200701_154531                       </td><td style=\"text-align: right;\">0.864403</td><td style=\"text-align: right;\"> 0.417557</td><td style=\"text-align: right;\">0.846077</td><td style=\"text-align: right;\">              0.192253</td><td style=\"text-align: right;\">0.357592</td><td style=\"text-align: right;\">0.127872</td></tr>\n",
       "<tr><td>GBM_grid__1_AutoML_20200701_154531_model_1         </td><td style=\"text-align: right;\">0.861768</td><td style=\"text-align: right;\"> 0.412708</td><td style=\"text-align: right;\">0.842458</td><td style=\"text-align: right;\">              0.181233</td><td style=\"text-align: right;\">0.356694</td><td style=\"text-align: right;\">0.12723 </td></tr>\n",
       "<tr><td>GBM_grid__1_AutoML_20200701_154531_model_3         </td><td style=\"text-align: right;\">0.861746</td><td style=\"text-align: right;\"> 0.412734</td><td style=\"text-align: right;\">0.846095</td><td style=\"text-align: right;\">              0.18246 </td><td style=\"text-align: right;\">0.357819</td><td style=\"text-align: right;\">0.128035</td></tr>\n",
       "</tbody>\n",
       "</table>"
      ]
     },
     "metadata": {},
     "output_type": "display_data"
    },
    {
     "data": {
      "text/plain": []
     },
     "execution_count": 46,
     "metadata": {},
     "output_type": "execute_result"
    }
   ],
   "source": [
    "#This leaderboard displays all the auto-generated models. The best performing model is at the top.\n",
    "\n",
    "aml.leaderboard"
   ]
  },
  {
   "cell_type": "code",
   "execution_count": 52,
   "metadata": {},
   "outputs": [
    {
     "name": "stdout",
     "output_type": "stream",
     "text": [
      "\n",
      "ModelMetricsBinomial: gbm\n",
      "** Reported on test data. **\n",
      "\n",
      "MSE: 0.12465853534345903\n",
      "RMSE: 0.35307015640444467\n",
      "LogLoss: 0.4032070284171383\n",
      "Mean Per-Class Error: 0.15456821026282852\n",
      "AUC: 0.884386733416771\n",
      "AUCPR: 0.8718908434584155\n",
      "Gini: 0.768773466833542\n",
      "\n",
      "Confusion Matrix (Act/Pred) for max f1 @ threshold = 0.42698113670925264: \n"
     ]
    },
    {
     "data": {
      "text/html": [
       "<div>\n",
       "<style scoped>\n",
       "    .dataframe tbody tr th:only-of-type {\n",
       "        vertical-align: middle;\n",
       "    }\n",
       "\n",
       "    .dataframe tbody tr th {\n",
       "        vertical-align: top;\n",
       "    }\n",
       "\n",
       "    .dataframe thead th {\n",
       "        text-align: right;\n",
       "    }\n",
       "</style>\n",
       "<table border=\"1\" class=\"dataframe\">\n",
       "  <thead>\n",
       "    <tr style=\"text-align: right;\">\n",
       "      <th></th>\n",
       "      <th></th>\n",
       "      <th>0</th>\n",
       "      <th>1</th>\n",
       "      <th>Error</th>\n",
       "      <th>Rate</th>\n",
       "    </tr>\n",
       "  </thead>\n",
       "  <tbody>\n",
       "    <tr>\n",
       "      <th>0</th>\n",
       "      <td>0</td>\n",
       "      <td>60.0</td>\n",
       "      <td>8.0</td>\n",
       "      <td>0.1176</td>\n",
       "      <td>(8.0/68.0)</td>\n",
       "    </tr>\n",
       "    <tr>\n",
       "      <th>1</th>\n",
       "      <td>1</td>\n",
       "      <td>9.0</td>\n",
       "      <td>38.0</td>\n",
       "      <td>0.1915</td>\n",
       "      <td>(9.0/47.0)</td>\n",
       "    </tr>\n",
       "    <tr>\n",
       "      <th>2</th>\n",
       "      <td>Total</td>\n",
       "      <td>69.0</td>\n",
       "      <td>46.0</td>\n",
       "      <td>0.1478</td>\n",
       "      <td>(17.0/115.0)</td>\n",
       "    </tr>\n",
       "  </tbody>\n",
       "</table>\n",
       "</div>"
      ],
      "text/plain": [
       "             0     1   Error           Rate\n",
       "0      0  60.0   8.0  0.1176     (8.0/68.0)\n",
       "1      1   9.0  38.0  0.1915     (9.0/47.0)\n",
       "2  Total  69.0  46.0  0.1478   (17.0/115.0)"
      ]
     },
     "metadata": {},
     "output_type": "display_data"
    },
    {
     "name": "stdout",
     "output_type": "stream",
     "text": [
      "\n",
      "Maximum Metrics: Maximum metrics at their respective thresholds\n"
     ]
    },
    {
     "data": {
      "text/html": [
       "<div>\n",
       "<style scoped>\n",
       "    .dataframe tbody tr th:only-of-type {\n",
       "        vertical-align: middle;\n",
       "    }\n",
       "\n",
       "    .dataframe tbody tr th {\n",
       "        vertical-align: top;\n",
       "    }\n",
       "\n",
       "    .dataframe thead th {\n",
       "        text-align: right;\n",
       "    }\n",
       "</style>\n",
       "<table border=\"1\" class=\"dataframe\">\n",
       "  <thead>\n",
       "    <tr style=\"text-align: right;\">\n",
       "      <th></th>\n",
       "      <th>metric</th>\n",
       "      <th>threshold</th>\n",
       "      <th>value</th>\n",
       "      <th>idx</th>\n",
       "    </tr>\n",
       "  </thead>\n",
       "  <tbody>\n",
       "    <tr>\n",
       "      <th>0</th>\n",
       "      <td>max f1</td>\n",
       "      <td>0.426981</td>\n",
       "      <td>0.817204</td>\n",
       "      <td>42.0</td>\n",
       "    </tr>\n",
       "    <tr>\n",
       "      <th>1</th>\n",
       "      <td>max f2</td>\n",
       "      <td>0.257670</td>\n",
       "      <td>0.847107</td>\n",
       "      <td>50.0</td>\n",
       "    </tr>\n",
       "    <tr>\n",
       "      <th>2</th>\n",
       "      <td>max f0point5</td>\n",
       "      <td>0.634240</td>\n",
       "      <td>0.837438</td>\n",
       "      <td>35.0</td>\n",
       "    </tr>\n",
       "    <tr>\n",
       "      <th>3</th>\n",
       "      <td>max accuracy</td>\n",
       "      <td>0.426981</td>\n",
       "      <td>0.852174</td>\n",
       "      <td>42.0</td>\n",
       "    </tr>\n",
       "    <tr>\n",
       "      <th>4</th>\n",
       "      <td>max precision</td>\n",
       "      <td>0.988758</td>\n",
       "      <td>1.000000</td>\n",
       "      <td>0.0</td>\n",
       "    </tr>\n",
       "    <tr>\n",
       "      <th>5</th>\n",
       "      <td>max recall</td>\n",
       "      <td>0.051814</td>\n",
       "      <td>1.000000</td>\n",
       "      <td>98.0</td>\n",
       "    </tr>\n",
       "    <tr>\n",
       "      <th>6</th>\n",
       "      <td>max specificity</td>\n",
       "      <td>0.988758</td>\n",
       "      <td>1.000000</td>\n",
       "      <td>0.0</td>\n",
       "    </tr>\n",
       "    <tr>\n",
       "      <th>7</th>\n",
       "      <td>max absolute_mcc</td>\n",
       "      <td>0.426981</td>\n",
       "      <td>0.693254</td>\n",
       "      <td>42.0</td>\n",
       "    </tr>\n",
       "    <tr>\n",
       "      <th>8</th>\n",
       "      <td>max min_per_class_accuracy</td>\n",
       "      <td>0.310535</td>\n",
       "      <td>0.838235</td>\n",
       "      <td>47.0</td>\n",
       "    </tr>\n",
       "    <tr>\n",
       "      <th>9</th>\n",
       "      <td>max mean_per_class_accuracy</td>\n",
       "      <td>0.426981</td>\n",
       "      <td>0.845432</td>\n",
       "      <td>42.0</td>\n",
       "    </tr>\n",
       "    <tr>\n",
       "      <th>10</th>\n",
       "      <td>max tns</td>\n",
       "      <td>0.988758</td>\n",
       "      <td>68.000000</td>\n",
       "      <td>0.0</td>\n",
       "    </tr>\n",
       "    <tr>\n",
       "      <th>11</th>\n",
       "      <td>max fns</td>\n",
       "      <td>0.988758</td>\n",
       "      <td>46.000000</td>\n",
       "      <td>0.0</td>\n",
       "    </tr>\n",
       "    <tr>\n",
       "      <th>12</th>\n",
       "      <td>max fps</td>\n",
       "      <td>0.026233</td>\n",
       "      <td>68.000000</td>\n",
       "      <td>103.0</td>\n",
       "    </tr>\n",
       "    <tr>\n",
       "      <th>13</th>\n",
       "      <td>max tps</td>\n",
       "      <td>0.051814</td>\n",
       "      <td>47.000000</td>\n",
       "      <td>98.0</td>\n",
       "    </tr>\n",
       "    <tr>\n",
       "      <th>14</th>\n",
       "      <td>max tnr</td>\n",
       "      <td>0.988758</td>\n",
       "      <td>1.000000</td>\n",
       "      <td>0.0</td>\n",
       "    </tr>\n",
       "    <tr>\n",
       "      <th>15</th>\n",
       "      <td>max fnr</td>\n",
       "      <td>0.988758</td>\n",
       "      <td>0.978723</td>\n",
       "      <td>0.0</td>\n",
       "    </tr>\n",
       "    <tr>\n",
       "      <th>16</th>\n",
       "      <td>max fpr</td>\n",
       "      <td>0.026233</td>\n",
       "      <td>1.000000</td>\n",
       "      <td>103.0</td>\n",
       "    </tr>\n",
       "    <tr>\n",
       "      <th>17</th>\n",
       "      <td>max tpr</td>\n",
       "      <td>0.051814</td>\n",
       "      <td>1.000000</td>\n",
       "      <td>98.0</td>\n",
       "    </tr>\n",
       "  </tbody>\n",
       "</table>\n",
       "</div>"
      ],
      "text/plain": [
       "                         metric  threshold      value    idx\n",
       "0                        max f1   0.426981   0.817204   42.0\n",
       "1                        max f2   0.257670   0.847107   50.0\n",
       "2                  max f0point5   0.634240   0.837438   35.0\n",
       "3                  max accuracy   0.426981   0.852174   42.0\n",
       "4                 max precision   0.988758   1.000000    0.0\n",
       "5                    max recall   0.051814   1.000000   98.0\n",
       "6               max specificity   0.988758   1.000000    0.0\n",
       "7              max absolute_mcc   0.426981   0.693254   42.0\n",
       "8    max min_per_class_accuracy   0.310535   0.838235   47.0\n",
       "9   max mean_per_class_accuracy   0.426981   0.845432   42.0\n",
       "10                      max tns   0.988758  68.000000    0.0\n",
       "11                      max fns   0.988758  46.000000    0.0\n",
       "12                      max fps   0.026233  68.000000  103.0\n",
       "13                      max tps   0.051814  47.000000   98.0\n",
       "14                      max tnr   0.988758   1.000000    0.0\n",
       "15                      max fnr   0.988758   0.978723    0.0\n",
       "16                      max fpr   0.026233   1.000000  103.0\n",
       "17                      max tpr   0.051814   1.000000   98.0"
      ]
     },
     "metadata": {},
     "output_type": "display_data"
    },
    {
     "name": "stdout",
     "output_type": "stream",
     "text": [
      "\n",
      "Gains/Lift Table: Avg response rate: 40.87 %, avg score: 40.15 %\n"
     ]
    },
    {
     "data": {
      "text/html": [
       "<div>\n",
       "<style scoped>\n",
       "    .dataframe tbody tr th:only-of-type {\n",
       "        vertical-align: middle;\n",
       "    }\n",
       "\n",
       "    .dataframe tbody tr th {\n",
       "        vertical-align: top;\n",
       "    }\n",
       "\n",
       "    .dataframe thead th {\n",
       "        text-align: right;\n",
       "    }\n",
       "</style>\n",
       "<table border=\"1\" class=\"dataframe\">\n",
       "  <thead>\n",
       "    <tr style=\"text-align: right;\">\n",
       "      <th></th>\n",
       "      <th>group</th>\n",
       "      <th>cumulative_data_fraction</th>\n",
       "      <th>lower_threshold</th>\n",
       "      <th>lift</th>\n",
       "      <th>cumulative_lift</th>\n",
       "      <th>response_rate</th>\n",
       "      <th>score</th>\n",
       "      <th>cumulative_response_rate</th>\n",
       "      <th>cumulative_score</th>\n",
       "      <th>capture_rate</th>\n",
       "      <th>cumulative_capture_rate</th>\n",
       "      <th>gain</th>\n",
       "      <th>cumulative_gain</th>\n",
       "      <th>kolmogorov_smirnov</th>\n",
       "    </tr>\n",
       "  </thead>\n",
       "  <tbody>\n",
       "    <tr>\n",
       "      <th>0</th>\n",
       "      <td>1</td>\n",
       "      <td>0.017391</td>\n",
       "      <td>0.979928</td>\n",
       "      <td>2.446809</td>\n",
       "      <td>2.446809</td>\n",
       "      <td>1.000000</td>\n",
       "      <td>0.984466</td>\n",
       "      <td>1.000000</td>\n",
       "      <td>0.984466</td>\n",
       "      <td>0.042553</td>\n",
       "      <td>0.042553</td>\n",
       "      <td>144.680851</td>\n",
       "      <td>144.680851</td>\n",
       "      <td>0.042553</td>\n",
       "    </tr>\n",
       "    <tr>\n",
       "      <th>1</th>\n",
       "      <td>2</td>\n",
       "      <td>0.026087</td>\n",
       "      <td>0.978339</td>\n",
       "      <td>2.446809</td>\n",
       "      <td>2.446809</td>\n",
       "      <td>1.000000</td>\n",
       "      <td>0.978423</td>\n",
       "      <td>1.000000</td>\n",
       "      <td>0.982451</td>\n",
       "      <td>0.021277</td>\n",
       "      <td>0.063830</td>\n",
       "      <td>144.680851</td>\n",
       "      <td>144.680851</td>\n",
       "      <td>0.063830</td>\n",
       "    </tr>\n",
       "    <tr>\n",
       "      <th>2</th>\n",
       "      <td>3</td>\n",
       "      <td>0.034783</td>\n",
       "      <td>0.968980</td>\n",
       "      <td>2.446809</td>\n",
       "      <td>2.446809</td>\n",
       "      <td>1.000000</td>\n",
       "      <td>0.978121</td>\n",
       "      <td>1.000000</td>\n",
       "      <td>0.981369</td>\n",
       "      <td>0.021277</td>\n",
       "      <td>0.085106</td>\n",
       "      <td>144.680851</td>\n",
       "      <td>144.680851</td>\n",
       "      <td>0.085106</td>\n",
       "    </tr>\n",
       "    <tr>\n",
       "      <th>3</th>\n",
       "      <td>4</td>\n",
       "      <td>0.043478</td>\n",
       "      <td>0.954488</td>\n",
       "      <td>2.446809</td>\n",
       "      <td>2.446809</td>\n",
       "      <td>1.000000</td>\n",
       "      <td>0.956355</td>\n",
       "      <td>1.000000</td>\n",
       "      <td>0.976366</td>\n",
       "      <td>0.021277</td>\n",
       "      <td>0.106383</td>\n",
       "      <td>144.680851</td>\n",
       "      <td>144.680851</td>\n",
       "      <td>0.106383</td>\n",
       "    </tr>\n",
       "    <tr>\n",
       "      <th>4</th>\n",
       "      <td>5</td>\n",
       "      <td>0.060870</td>\n",
       "      <td>0.953020</td>\n",
       "      <td>2.446809</td>\n",
       "      <td>2.446809</td>\n",
       "      <td>1.000000</td>\n",
       "      <td>0.953020</td>\n",
       "      <td>1.000000</td>\n",
       "      <td>0.969696</td>\n",
       "      <td>0.042553</td>\n",
       "      <td>0.148936</td>\n",
       "      <td>144.680851</td>\n",
       "      <td>144.680851</td>\n",
       "      <td>0.148936</td>\n",
       "    </tr>\n",
       "    <tr>\n",
       "      <th>5</th>\n",
       "      <td>6</td>\n",
       "      <td>0.104348</td>\n",
       "      <td>0.928535</td>\n",
       "      <td>2.446809</td>\n",
       "      <td>2.446809</td>\n",
       "      <td>1.000000</td>\n",
       "      <td>0.941295</td>\n",
       "      <td>1.000000</td>\n",
       "      <td>0.957862</td>\n",
       "      <td>0.106383</td>\n",
       "      <td>0.255319</td>\n",
       "      <td>144.680851</td>\n",
       "      <td>144.680851</td>\n",
       "      <td>0.255319</td>\n",
       "    </tr>\n",
       "    <tr>\n",
       "      <th>6</th>\n",
       "      <td>7</td>\n",
       "      <td>0.156522</td>\n",
       "      <td>0.862909</td>\n",
       "      <td>2.039007</td>\n",
       "      <td>2.310875</td>\n",
       "      <td>0.833333</td>\n",
       "      <td>0.899107</td>\n",
       "      <td>0.944444</td>\n",
       "      <td>0.938277</td>\n",
       "      <td>0.106383</td>\n",
       "      <td>0.361702</td>\n",
       "      <td>103.900709</td>\n",
       "      <td>131.087470</td>\n",
       "      <td>0.346996</td>\n",
       "    </tr>\n",
       "    <tr>\n",
       "      <th>7</th>\n",
       "      <td>8</td>\n",
       "      <td>0.217391</td>\n",
       "      <td>0.755818</td>\n",
       "      <td>2.097264</td>\n",
       "      <td>2.251064</td>\n",
       "      <td>0.857143</td>\n",
       "      <td>0.804451</td>\n",
       "      <td>0.920000</td>\n",
       "      <td>0.900806</td>\n",
       "      <td>0.127660</td>\n",
       "      <td>0.489362</td>\n",
       "      <td>109.726444</td>\n",
       "      <td>125.106383</td>\n",
       "      <td>0.459950</td>\n",
       "    </tr>\n",
       "    <tr>\n",
       "      <th>8</th>\n",
       "      <td>9</td>\n",
       "      <td>0.304348</td>\n",
       "      <td>0.685532</td>\n",
       "      <td>1.712766</td>\n",
       "      <td>2.097264</td>\n",
       "      <td>0.700000</td>\n",
       "      <td>0.725243</td>\n",
       "      <td>0.857143</td>\n",
       "      <td>0.850645</td>\n",
       "      <td>0.148936</td>\n",
       "      <td>0.638298</td>\n",
       "      <td>71.276596</td>\n",
       "      <td>109.726444</td>\n",
       "      <td>0.564768</td>\n",
       "    </tr>\n",
       "    <tr>\n",
       "      <th>9</th>\n",
       "      <td>10</td>\n",
       "      <td>0.400000</td>\n",
       "      <td>0.408970</td>\n",
       "      <td>1.779497</td>\n",
       "      <td>2.021277</td>\n",
       "      <td>0.727273</td>\n",
       "      <td>0.574103</td>\n",
       "      <td>0.826087</td>\n",
       "      <td>0.784515</td>\n",
       "      <td>0.170213</td>\n",
       "      <td>0.808511</td>\n",
       "      <td>77.949710</td>\n",
       "      <td>102.127660</td>\n",
       "      <td>0.690864</td>\n",
       "    </tr>\n",
       "    <tr>\n",
       "      <th>10</th>\n",
       "      <td>11</td>\n",
       "      <td>0.504348</td>\n",
       "      <td>0.237387</td>\n",
       "      <td>0.611702</td>\n",
       "      <td>1.729640</td>\n",
       "      <td>0.250000</td>\n",
       "      <td>0.303213</td>\n",
       "      <td>0.706897</td>\n",
       "      <td>0.684936</td>\n",
       "      <td>0.063830</td>\n",
       "      <td>0.872340</td>\n",
       "      <td>-38.829787</td>\n",
       "      <td>72.964050</td>\n",
       "      <td>0.622340</td>\n",
       "    </tr>\n",
       "    <tr>\n",
       "      <th>11</th>\n",
       "      <td>12</td>\n",
       "      <td>0.600000</td>\n",
       "      <td>0.174224</td>\n",
       "      <td>0.222437</td>\n",
       "      <td>1.489362</td>\n",
       "      <td>0.090909</td>\n",
       "      <td>0.196128</td>\n",
       "      <td>0.608696</td>\n",
       "      <td>0.607010</td>\n",
       "      <td>0.021277</td>\n",
       "      <td>0.893617</td>\n",
       "      <td>-77.756286</td>\n",
       "      <td>48.936170</td>\n",
       "      <td>0.496558</td>\n",
       "    </tr>\n",
       "    <tr>\n",
       "      <th>12</th>\n",
       "      <td>13</td>\n",
       "      <td>0.695652</td>\n",
       "      <td>0.121799</td>\n",
       "      <td>0.444874</td>\n",
       "      <td>1.345745</td>\n",
       "      <td>0.181818</td>\n",
       "      <td>0.141228</td>\n",
       "      <td>0.550000</td>\n",
       "      <td>0.542965</td>\n",
       "      <td>0.042553</td>\n",
       "      <td>0.936170</td>\n",
       "      <td>-55.512573</td>\n",
       "      <td>34.574468</td>\n",
       "      <td>0.406758</td>\n",
       "    </tr>\n",
       "    <tr>\n",
       "      <th>13</th>\n",
       "      <td>14</td>\n",
       "      <td>0.800000</td>\n",
       "      <td>0.089156</td>\n",
       "      <td>0.203901</td>\n",
       "      <td>1.196809</td>\n",
       "      <td>0.083333</td>\n",
       "      <td>0.106777</td>\n",
       "      <td>0.489130</td>\n",
       "      <td>0.486071</td>\n",
       "      <td>0.021277</td>\n",
       "      <td>0.957447</td>\n",
       "      <td>-79.609929</td>\n",
       "      <td>19.680851</td>\n",
       "      <td>0.266270</td>\n",
       "    </tr>\n",
       "    <tr>\n",
       "      <th>14</th>\n",
       "      <td>15</td>\n",
       "      <td>0.895652</td>\n",
       "      <td>0.067491</td>\n",
       "      <td>0.000000</td>\n",
       "      <td>1.068994</td>\n",
       "      <td>0.000000</td>\n",
       "      <td>0.079158</td>\n",
       "      <td>0.436893</td>\n",
       "      <td>0.442614</td>\n",
       "      <td>0.000000</td>\n",
       "      <td>0.957447</td>\n",
       "      <td>-100.000000</td>\n",
       "      <td>6.899401</td>\n",
       "      <td>0.104506</td>\n",
       "    </tr>\n",
       "    <tr>\n",
       "      <th>15</th>\n",
       "      <td>16</td>\n",
       "      <td>1.000000</td>\n",
       "      <td>0.026233</td>\n",
       "      <td>0.407801</td>\n",
       "      <td>1.000000</td>\n",
       "      <td>0.166667</td>\n",
       "      <td>0.048674</td>\n",
       "      <td>0.408696</td>\n",
       "      <td>0.401507</td>\n",
       "      <td>0.042553</td>\n",
       "      <td>1.000000</td>\n",
       "      <td>-59.219858</td>\n",
       "      <td>0.000000</td>\n",
       "      <td>0.000000</td>\n",
       "    </tr>\n",
       "  </tbody>\n",
       "</table>\n",
       "</div>"
      ],
      "text/plain": [
       "    group  cumulative_data_fraction  lower_threshold      lift  \\\n",
       "0       1                  0.017391         0.979928  2.446809   \n",
       "1       2                  0.026087         0.978339  2.446809   \n",
       "2       3                  0.034783         0.968980  2.446809   \n",
       "3       4                  0.043478         0.954488  2.446809   \n",
       "4       5                  0.060870         0.953020  2.446809   \n",
       "5       6                  0.104348         0.928535  2.446809   \n",
       "6       7                  0.156522         0.862909  2.039007   \n",
       "7       8                  0.217391         0.755818  2.097264   \n",
       "8       9                  0.304348         0.685532  1.712766   \n",
       "9      10                  0.400000         0.408970  1.779497   \n",
       "10     11                  0.504348         0.237387  0.611702   \n",
       "11     12                  0.600000         0.174224  0.222437   \n",
       "12     13                  0.695652         0.121799  0.444874   \n",
       "13     14                  0.800000         0.089156  0.203901   \n",
       "14     15                  0.895652         0.067491  0.000000   \n",
       "15     16                  1.000000         0.026233  0.407801   \n",
       "\n",
       "    cumulative_lift  response_rate     score  cumulative_response_rate  \\\n",
       "0          2.446809       1.000000  0.984466                  1.000000   \n",
       "1          2.446809       1.000000  0.978423                  1.000000   \n",
       "2          2.446809       1.000000  0.978121                  1.000000   \n",
       "3          2.446809       1.000000  0.956355                  1.000000   \n",
       "4          2.446809       1.000000  0.953020                  1.000000   \n",
       "5          2.446809       1.000000  0.941295                  1.000000   \n",
       "6          2.310875       0.833333  0.899107                  0.944444   \n",
       "7          2.251064       0.857143  0.804451                  0.920000   \n",
       "8          2.097264       0.700000  0.725243                  0.857143   \n",
       "9          2.021277       0.727273  0.574103                  0.826087   \n",
       "10         1.729640       0.250000  0.303213                  0.706897   \n",
       "11         1.489362       0.090909  0.196128                  0.608696   \n",
       "12         1.345745       0.181818  0.141228                  0.550000   \n",
       "13         1.196809       0.083333  0.106777                  0.489130   \n",
       "14         1.068994       0.000000  0.079158                  0.436893   \n",
       "15         1.000000       0.166667  0.048674                  0.408696   \n",
       "\n",
       "    cumulative_score  capture_rate  cumulative_capture_rate        gain  \\\n",
       "0           0.984466      0.042553                 0.042553  144.680851   \n",
       "1           0.982451      0.021277                 0.063830  144.680851   \n",
       "2           0.981369      0.021277                 0.085106  144.680851   \n",
       "3           0.976366      0.021277                 0.106383  144.680851   \n",
       "4           0.969696      0.042553                 0.148936  144.680851   \n",
       "5           0.957862      0.106383                 0.255319  144.680851   \n",
       "6           0.938277      0.106383                 0.361702  103.900709   \n",
       "7           0.900806      0.127660                 0.489362  109.726444   \n",
       "8           0.850645      0.148936                 0.638298   71.276596   \n",
       "9           0.784515      0.170213                 0.808511   77.949710   \n",
       "10          0.684936      0.063830                 0.872340  -38.829787   \n",
       "11          0.607010      0.021277                 0.893617  -77.756286   \n",
       "12          0.542965      0.042553                 0.936170  -55.512573   \n",
       "13          0.486071      0.021277                 0.957447  -79.609929   \n",
       "14          0.442614      0.000000                 0.957447 -100.000000   \n",
       "15          0.401507      0.042553                 1.000000  -59.219858   \n",
       "\n",
       "    cumulative_gain  kolmogorov_smirnov  \n",
       "0        144.680851            0.042553  \n",
       "1        144.680851            0.063830  \n",
       "2        144.680851            0.085106  \n",
       "3        144.680851            0.106383  \n",
       "4        144.680851            0.148936  \n",
       "5        144.680851            0.255319  \n",
       "6        131.087470            0.346996  \n",
       "7        125.106383            0.459950  \n",
       "8        109.726444            0.564768  \n",
       "9        102.127660            0.690864  \n",
       "10        72.964050            0.622340  \n",
       "11        48.936170            0.496558  \n",
       "12        34.574468            0.406758  \n",
       "13        19.680851            0.266270  \n",
       "14         6.899401            0.104506  \n",
       "15         0.000000            0.000000  "
      ]
     },
     "metadata": {},
     "output_type": "display_data"
    },
    {
     "name": "stdout",
     "output_type": "stream",
     "text": [
      "\n",
      "\n"
     ]
    }
   ],
   "source": [
    "#Printing the performance chart of the best performing model\n",
    "\n",
    "#test1=test\n",
    "perf=aml.leader.model_performance(test_df)\n",
    "print(perf)"
   ]
  },
  {
   "cell_type": "code",
   "execution_count": 1,
   "metadata": {},
   "outputs": [],
   "source": [
    "acdt=0.9809203142536476\n",
    "acsvm=0.8428731762065096\n",
    "acknn=0.8720538720538721\n",
    "acgnb=0.7802690582959642\n",
    "aclog=0.8327721661054994\n",
    "acmnb=0.7174887892376681\n",
    "acbnb=0.7802690582959642\n",
    "accnb=0.7309417040358744\n",
    "aclda=0.8327721661054994\n",
    "acrf=0.9809203142536476\n",
    "acrc=0.8327721661054994\n",
    "acnn=0.8826815485954285\n",
    "acgbe=0.8347826086956521\n",
    "acaml=0.852174"
   ]
  },
  {
   "cell_type": "code",
   "execution_count": 2,
   "metadata": {},
   "outputs": [],
   "source": [
    "ac_scores={\n",
    "    'DecTree':acdt,\n",
    "    'SVM':acsvm,\n",
    "    'KNN':acknn,\n",
    "    'GaussNBay':acgnb,\n",
    "    'LogReg':aclog,\n",
    "    'MultNBay':acmnb,\n",
    "    'BernNBay':acbnb,\n",
    "    'CompNBay':accnb,\n",
    "    'LinearDA':aclda,\n",
    "    'RandForest':acrf,\n",
    "    'Ridge':acrc,\n",
    "    'Neural Network':acnn,\n",
    "    'Gradient Boosting Estimator':acgbe,\n",
    "    'AutoML':acaml\n",
    "}"
   ]
  },
  {
   "cell_type": "code",
   "execution_count": 3,
   "metadata": {},
   "outputs": [
    {
     "data": {
      "text/plain": [
       "Text(0.5, 0, 'Accuracy')"
      ]
     },
     "execution_count": 3,
     "metadata": {},
     "output_type": "execute_result"
    },
    {
     "data": {
      "image/png": "[encoded data removed]",
      "text/plain": [
       "<Figure size 432x288 with 1 Axes>"
      ]
     },
     "metadata": {
      "needs_background": "light"
     },
     "output_type": "display_data"
    }
   ],
   "source": [
    "import matplotlib.pyplot as plt\n",
    "\n",
    "plt.title('Accuracy')\n",
    "plt.barh(range(len(ac_scores)), list(ac_scores.values()), align='center')\n",
    "plt.yticks(range(len(ac_scores)), list(ac_scores.keys()))\n",
    "plt.xlabel('Accuracy')"
   ]
  },
  {
   "cell_type": "markdown",
   "metadata": {},
   "source": [
    "However, it is important to acknowledge that AutoML has a precision and recall score of 100%"
   ]
  },
  {
   "cell_type": "code",
   "execution_count": 4,
   "metadata": {},
   "outputs": [],
   "source": [
    "sc={\n",
    "    'Gradient Boosting Estimator':acgbe,\n",
    "    'AutoML':acaml\n",
    "}"
   ]
  },
  {
   "cell_type": "code",
   "execution_count": 6,
   "metadata": {},
   "outputs": [
    {
     "data": {
      "text/plain": [
       "Text(0.5, 0, 'Accuracy')"
      ]
     },
     "execution_count": 6,
     "metadata": {},
     "output_type": "execute_result"
    },
    {
     "data": {
      "image/png": "[encoded data removed]",
      "text/plain": [
       "<Figure size 432x288 with 1 Axes>"
      ]
     },
     "metadata": {
      "needs_background": "light"
     },
     "output_type": "display_data"
    }
   ],
   "source": [
    "plt.title('Accuracy')\n",
    "plt.barh(range(len(sc)), list(sc.values()), align='center')\n",
    "plt.yticks(range(len(sc)), list(sc.keys()))\n",
    "plt.xlabel('Accuracy')"
   ]
  }
 ],
 "metadata": {
  "kernelspec": {
   "display_name": "Python 3",
   "language": "python",
   "name": "python3"
  },
  "language_info": {
   "codemirror_mode": {
    "name": "ipython",
    "version": 3
   },
   "file_extension": ".py",
   "mimetype": "text/x-python",
   "name": "python",
   "nbconvert_exporter": "python",
   "pygments_lexer": "ipython3",
   "version": "3.6.10"
  }
 },
 "nbformat": 4,
 "nbformat_minor": 4
}
